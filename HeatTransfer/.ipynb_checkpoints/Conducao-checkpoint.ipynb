{
 "cells": [
  {
   "cell_type": "markdown",
   "metadata": {
    "slideshow": {
     "slide_type": "slide"
    }
   },
   "source": [
    "# Fenômenos de Transporte\n",
    " _Prof. Tito Dias Júnior_"
   ]
  },
  {
   "cell_type": "markdown",
   "metadata": {
    "slideshow": {
     "slide_type": "slide"
    }
   },
   "source": [
    "### Transferência de calor entre duas placas isotérmicas"
   ]
  },
  {
   "cell_type": "markdown",
   "metadata": {
    "slideshow": {
     "slide_type": "slide"
    }
   },
   "source": [
    "\n",
    "### **Exemplo:** \n",
    "Considere transferência de calor, em regime permanente, entre duas grandes placas paralelas com \n",
    "temperaturas uniformes de $300 K$ e $200 K$ separadas por $1 cm$, como mostradas na Figura abaixo.\n",
    "Supondo que as superfícies se comportem como corpo negro (emissividade 1), determine\n",
    "a taxa de transferência de calor entre as placas por unidade de superfície, assumindo que o espaço entre as placas é (a) preenchido com ar atmosférico, (b) evacuado, (c) preenchido com isolamento de poliutretano, e (d) preenchido com superisolante térmico com condutividade térmica de $0,00002 W / m · ° C.$"
   ]
  },
  {
   "cell_type": "code",
   "execution_count": 1,
   "metadata": {},
   "outputs": [
    {
     "data": {
      "image/png": "[encoded data removed]",
      "text/plain": [
       "<IPython.core.display.Image object>"
      ]
     },
     "execution_count": 1,
     "metadata": {},
     "output_type": "execute_result"
    }
   ],
   "source": [
    "from IPython.display import Image\n",
    "Image(\"diagrama.png\")"
   ]
  },
  {
   "cell_type": "code",
   "execution_count": 2,
   "metadata": {
    "slideshow": {
     "slide_type": "slide"
    }
   },
   "outputs": [],
   "source": [
    "L = 1E-2    # Distância de 1cm\n",
    "e = 1       # Emissividade\n",
    "T1 = 300    # Temperatura em kelvin\n",
    "T2 = 200    # Temperatura em kelvin\n",
    "A = 1       # Área entre as placas igual a um, pois pede-se a transf. de calor por unidade de superfície"
   ]
  },
  {
   "cell_type": "markdown",
   "metadata": {
    "slideshow": {
     "slide_type": "slide"
    }
   },
   "source": [
    "## Solução\n",
    "A taxa total de transferência de calor entre duas placas isotérmicas paralelas com \n",
    "dimensões maiores que a distância entre elas deve ser determinada para quatro casos diferentes.\n",
    "\n",
    "### Hipóteses\n",
    "1. Regime permanente. \n",
    "2. Despreza-se a convecção natural\n",
    "3. As superfícies se comportam como corpos negros\n"
   ]
  },
  {
   "cell_type": "markdown",
   "metadata": {
    "slideshow": {
     "slide_type": "slide"
    }
   },
   "source": [
    "### Propriedades - Condutividades térmicas\n",
    "1. Ar a 250K:  $$ k=0,0219 W/m ° C $$ \n",
    "2. Poliuretano: $$k=0,026 W/m°C$$\n",
    "3. Superisolante térmico: $$k= 0,00002 W/m°C $$"
   ]
  },
  {
   "cell_type": "code",
   "execution_count": 12,
   "metadata": {},
   "outputs": [],
   "source": [
    "k_ar = 0.0219\n",
    "k_poli = 0.026\n",
    "k_super = 0.00002"
   ]
  },
  {
   "cell_type": "markdown",
   "metadata": {
    "slideshow": {
     "slide_type": "slide"
    }
   },
   "source": [
    "### Análise\n",
    " As taxas de transferência de calor por condução e por radiação entre as placas através do meio que preenche o espaço entre elas são: <br>"
   ]
  },
  {
   "cell_type": "markdown",
   "metadata": {
    "slideshow": {
     "slide_type": "slide"
    }
   },
   "source": [
    "$ \\dot{Q_{cond}}=kA\\frac{T_1 - T_2}{L}$"
   ]
  },
  {
   "cell_type": "code",
   "execution_count": 10,
   "metadata": {
    "slideshow": {
     "slide_type": "fragment"
    }
   },
   "outputs": [],
   "source": [
    "# Definindo a função que calcula a taxa de transf. de calor por CONDUÇÃO\n",
    "def Qcond(k,A,L,T1,T2):\n",
    "    Qcond=k*A*(T1-T2)/L\n",
    "    return Qcond"
   ]
  },
  {
   "cell_type": "markdown",
   "metadata": {
    "slideshow": {
     "slide_type": "slide"
    }
   },
   "source": [
    "$ \\dot{Q_{rad}}=\\epsilon \\sigma A (T_1^4 - T_2^4)$"
   ]
  },
  {
   "cell_type": "code",
   "execution_count": 5,
   "metadata": {
    "slideshow": {
     "slide_type": "fragment"
    }
   },
   "outputs": [],
   "source": [
    "# Definindo a função que calcula a taxa de transf. de calor por RADIAÇÃO\n",
    "def Qrad(e,A,T1,T2):\n",
    "    sigma = 5.67E-8 #Constate de Stefan-Boltzmann\n",
    "    Qrad= e*sigma*A*(T1**4-T2**4)\n",
    "    return Qrad"
   ]
  },
  {
   "cell_type": "markdown",
   "metadata": {
    "slideshow": {
     "slide_type": "slide"
    }
   },
   "source": [
    "E a taxa de transferência total corresponde à soma $\\dot{Q_{total}}=\\dot{Q_{cond}}+\\dot{Q_{rad}}$"
   ]
  },
  {
   "cell_type": "markdown",
   "metadata": {
    "slideshow": {
     "slide_type": "slide"
    }
   },
   "source": [
    "(A) As taxas de condução e transferência de calor por radiação entre as placas através da camada de ar são: <br>"
   ]
  },
  {
   "cell_type": "code",
   "execution_count": 6,
   "metadata": {
    "slideshow": {
     "slide_type": "fragment"
    }
   },
   "outputs": [
    {
     "name": "stdout",
     "output_type": "stream",
     "text": [
      "Qcond = 219.0  e Qrad = 368.55\n",
      "Qar = 587.55 kW/m^2\n"
     ]
    }
   ],
   "source": [
    "Qar = Qcond(k_ar,A,L,T1,T2) + Qrad(e,A,T1,T2)\n",
    "print('Qcond =',Qcond(k_ar,A,L,T1,T2),' e Qrad =',Qrad(e,A,T1,T2))\n",
    "print('Qar =', Qar, 'kW/m^2')\n"
   ]
  },
  {
   "cell_type": "markdown",
   "metadata": {
    "slideshow": {
     "slide_type": "slide"
    }
   },
   "source": [
    "(B) As taxas de condução e transferência de calor por radiação entre as placas evacuadas: <br>"
   ]
  },
  {
   "cell_type": "code",
   "execution_count": 7,
   "metadata": {
    "slideshow": {
     "slide_type": "fragment"
    }
   },
   "outputs": [
    {
     "name": "stdout",
     "output_type": "stream",
     "text": [
      "Qcond = 0  e Qrad = 368.55\n",
      "Qar = 368.55 kW/m^2\n"
     ]
    }
   ],
   "source": [
    "Qar = 0 + Qrad(e,A,T1,T2)\n",
    "print('Qcond =',0,' e Qrad =',Qrad(e,A,T1,T2))\n",
    "print('Qar =', Qar, 'kW/m^2')\n"
   ]
  },
  {
   "cell_type": "markdown",
   "metadata": {
    "slideshow": {
     "slide_type": "slide"
    }
   },
   "source": [
    "(C) As taxas de condução e transferência de calor por radiação entre as placas através do poliuretano: <br>"
   ]
  },
  {
   "cell_type": "code",
   "execution_count": 8,
   "metadata": {
    "slideshow": {
     "slide_type": "fragment"
    }
   },
   "outputs": [
    {
     "name": "stdout",
     "output_type": "stream",
     "text": [
      "Qcond = 260.0  e Qrad = 0\n",
      "Qar = 260.0 kW/m^2\n"
     ]
    }
   ],
   "source": [
    "Qar = Qcond(k_poli,A,L,T1,T2) + 0\n",
    "print('Qcond =',Qcond(k_poli,A,L,T1,T2),' e Qrad =',0)\n",
    "print('Qar =', Qar, 'kW/m^2')\n"
   ]
  },
  {
   "cell_type": "markdown",
   "metadata": {
    "slideshow": {
     "slide_type": "slide"
    }
   },
   "source": [
    "(D) As taxas de condução e transferência de calor por radiação entre as placas através do superisolante: <br>"
   ]
  },
  {
   "cell_type": "code",
   "execution_count": 9,
   "metadata": {
    "slideshow": {
     "slide_type": "fragment"
    }
   },
   "outputs": [
    {
     "name": "stdout",
     "output_type": "stream",
     "text": [
      "Qcond = 0.2  e Qrad = 0\n",
      "Qar = 0.2 kW/m^2\n"
     ]
    }
   ],
   "source": [
    "Qar = Qcond(k_super,A,L,T1,T2) + 0\n",
    "print('Qcond =',Qcond(k_super,A,L,T1,T2),' e Qrad =',0)\n",
    "print('Qar =', Qar, 'kW/m^2')\n"
   ]
  },
  {
   "cell_type": "markdown",
   "metadata": {
    "slideshow": {
     "slide_type": "slide"
    }
   },
   "source": [
    "## Referência"
   ]
  },
  {
   "cell_type": "markdown",
   "metadata": {
    "slideshow": {
     "slide_type": "fragment"
    }
   },
   "source": [
    "Çengel, Y. A., Turner, R. H., & Cimbala, J. M. (2008). **Fundamentals of thermal-fluid sciences**. Boston: McGraw-Hill."
   ]
  }
 ],
 "metadata": {
  "kernelspec": {
   "display_name": "Python 3",
   "language": "python",
   "name": "python3"
  },
  "language_info": {
   "codemirror_mode": {
    "name": "ipython",
    "version": 3
   },
   "file_extension": ".py",
   "mimetype": "text/x-python",
   "name": "python",
   "nbconvert_exporter": "python",
   "pygments_lexer": "ipython3",
   "version": "3.7.7"
  }
 },
 "nbformat": 4,
 "nbformat_minor": 4
}
